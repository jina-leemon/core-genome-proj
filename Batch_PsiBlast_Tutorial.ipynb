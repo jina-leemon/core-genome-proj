{
 "cells": [
  {
   "cell_type": "markdown",
   "id": "2714ed7f",
   "metadata": {
    "id": "2714ed7f"
   },
   "source": [
    "## Batch PsiBlast Tutorial + data extraction\n",
    "\n",
    "The BLAST+ suite from NCBI has psiblast, and it is able to run psiblast on multiple sequences. This tutorial does the following:\n",
    "\n",
    "<ol>\n",
    "    <li>Format Ray genome so it only has locus tags (fdh and gp)</li> \n",
    "    <li>Install BLAST+</li> \n",
    "    <li>Prepare -nr database and extract taxids</li>\n",
    "    <li>Run BLAST+</li>\n",
    "        - test that \n",
    "    <li>Extract proteins of desired species from output</li>\n",
    "    </ol>"
   ]
  },
  {
   "cell_type": "code",
   "execution_count": null,
   "id": "ca054633",
   "metadata": {},
   "outputs": [],
   "source": []
  },
  {
   "cell_type": "code",
   "execution_count": null,
   "id": "4c2d2eb8",
   "metadata": {},
   "outputs": [],
   "source": []
  },
  {
   "cell_type": "code",
   "execution_count": null,
   "id": "e3cc3c20",
   "metadata": {
    "id": "e3cc3c20"
   },
   "outputs": [],
   "source": [
    "#written by @Jina Lee, contact jil143@ucsd.edu"
   ]
  },
  {
   "cell_type": "markdown",
   "id": "83d556ab",
   "metadata": {
    "id": "83d556ab"
   },
   "source": [
    "### 1. Format Ray genome so it only has locus tags\n",
    "\n",
    "This changes all the headers to fdh and gp so that the output contains more information"
   ]
  },
  {
   "cell_type": "code",
   "execution_count": 1,
   "id": "0b1e6071",
   "metadata": {
    "id": "0b1e6071"
   },
   "outputs": [],
   "source": [
    "import re\n",
    "genome = open(\"ray_genome.fasta\")\n",
    "lines = genome.readlines()\n",
    "\n",
    "formatted = open(\"ray_genome_format.fasta\", \"w\")\n",
    "\n",
    "for line in lines:\n",
    "    if \">\" in line:\n",
    "        locus_tag = re.findall(r'\\[locus_tag=(.*?)\\]', line)[0]\n",
    "        formatted.write(\">\" + locus_tag + \"\\n\")\n",
    "    else:\n",
    "        formatted.write(line)\n",
    "        \n",
    "formatted.close()"
   ]
  },
  {
   "cell_type": "markdown",
   "id": "dea5119e",
   "metadata": {
    "id": "dea5119e"
   },
   "source": [
    "### 2. Install BLAST\n",
    "\n",
    "Install the most recent version of BLAST+ (either with conda or apt-get)\n"
   ]
  },
  {
   "cell_type": "markdown",
   "id": "96054e0b",
   "metadata": {
    "id": "96054e0b"
   },
   "source": [
    "### 3. Prepare -nr database and extract taxids\n",
    "\n",
    "list of databases provided: ftp://ftp.ncbi.nlm.nih.gov/blast/db/\n",
    "database documentation: https://ftp.ncbi.nlm.nih.gov/blast/documents/blastdb.html\n",
    "\n",
    "NCBI BLAST database book:\n",
    "https://www.ncbi.nlm.nih.gov/books/NBK569850/?report=reader\n",
    "\n",
    "This tutorial may also help: https://angus.readthedocs.io/en/2016/running-command-line-blast.html\n",
    "\n",
    "Since we want to run psiblast on the -nr database and against tailed phages (taxid 28883) the following command line arguments allows this:\n",
    "\n",
    "`$update_blastdb.pl --decompress nt`<br>\n",
    "`$get_species_taxids.sh -t 28883 > 28883.txids`\n",
    "\n",
    "for me the --decompress did not work so if the command downloads everything but does not decompress, decompress the tar.gz files\n",
    "(huge; over 300GB when decompressed)"
   ]
  },
  {
   "cell_type": "code",
   "execution_count": null,
   "id": "6f982222",
   "metadata": {
    "id": "6f982222"
   },
   "outputs": [],
   "source": []
  }
 ],
 "metadata": {
  "colab": {
   "name": "Batch PsiBlast Tutorial.ipynb",
   "provenance": []
  },
  "kernelspec": {
   "display_name": "Python 3 (ipykernel)",
   "language": "python",
   "name": "python3"
  },
  "language_info": {
   "codemirror_mode": {
    "name": "ipython",
    "version": 3
   },
   "file_extension": ".py",
   "mimetype": "text/x-python",
   "name": "python",
   "nbconvert_exporter": "python",
   "pygments_lexer": "ipython3",
   "version": "3.9.11"
  }
 },
 "nbformat": 4,
 "nbformat_minor": 5
}
